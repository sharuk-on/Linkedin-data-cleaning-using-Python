{
 "cells": [
  {
   "cell_type": "markdown",
   "id": "dbe31d4d-51ad-4f17-85cf-284de472eb9f",
   "metadata": {},
   "source": [
    "### Imports"
   ]
  },
  {
   "cell_type": "code",
   "execution_count": 1,
   "id": "e64a8e38-9296-4098-9525-129d9e2218e5",
   "metadata": {},
   "outputs": [],
   "source": [
    "import pandas as pd\n",
    "import numpy as np\n",
    "import re\n",
    "import calendar\n",
    "from collections import Counter\n",
    "from collections import OrderedDict"
   ]
  },
  {
   "cell_type": "markdown",
   "id": "06dc2363-bcce-4e64-8429-6343f18b03cd",
   "metadata": {},
   "source": [
    "# Data Cleaning"
   ]
  },
  {
   "cell_type": "markdown",
   "id": "eadaf17c-2ff7-4004-b030-2f29a750381d",
   "metadata": {},
   "source": [
    "#### Creating Dataframe"
   ]
  },
  {
   "cell_type": "code",
   "execution_count": 2,
   "id": "1b6fea9e-f7ff-4bdf-aae4-b6bc19b73402",
   "metadata": {},
   "outputs": [],
   "source": [
    "df = pd.read_csv(r'Raw LinkedIn Dataset.csv')"
   ]
  },
  {
   "cell_type": "markdown",
   "id": "b98c0b73-5069-4c58-962c-b4a84781d3b5",
   "metadata": {},
   "source": [
    "#### Naming columns"
   ]
  },
  {
   "cell_type": "code",
   "execution_count": 3,
   "id": "756785c4-9802-4843-bd90-91153b7763bd",
   "metadata": {},
   "outputs": [],
   "source": [
    "col = ['Role', 'Company', 'Location', 'Time posted', 'No of applicants', 'Level', 'Job type', 'Job function', 'Industry']\n",
    "df.columns = col"
   ]
  },
  {
   "cell_type": "markdown",
   "id": "b48cb97f-3b76-43b9-87e8-88c72a0d5691",
   "metadata": {},
   "source": [
    "#### Cleaning columns individually"
   ]
  },
  {
   "cell_type": "code",
   "execution_count": 4,
   "id": "764a2957-03c2-4ffb-901a-51bd4dcc2194",
   "metadata": {},
   "outputs": [],
   "source": [
    "# Cleaning \"Company\" column  \n",
    "df['Company'] = df['Company'].apply(lambda x: x.replace(' ', '', 16).split('\\n')[1])\n",
    "\n",
    "# \"Location\" column\n",
    "df['Location'] = df['Location'].apply(lambda x: x.replace(' ', '', 14).split('\\n')[1])\n",
    "\n",
    "# \"Time posted\" column\n",
    "df['Time posted'].fillna(0, inplace=True)\n",
    "df['Time posted'] = df['Time posted'].apply(lambda x: x.split('\\n')[-3].replace(' ', '', 4) if (type(x)!=int) else 'Not available')\n",
    "\n",
    "# \"Level\" column\n",
    "df['Level'] = df['Level'].apply(lambda x: re.findall('[\\w-]+[ ]?\\w+',x)[0])\n",
    "\n",
    "# \"Job type\" column\n",
    "df['Job type'] = df['Job type'].apply(lambda x: x.replace(' ', '', 10).split('\\n')[1] if type(x)==str else ('Not mentioned'))\n",
    "\n",
    "# \"Job Function\" column\n",
    "df['Job function'] = df['Job function'].apply(lambda x: x.replace(' ', '', 12).split('\\n')[1] if (type(x)!=float) else 'Not mentioned')\n",
    "\n",
    "# \"Industry\" column\n",
    "df['Industry'] = df['Industry'].apply(lambda x: x.replace(' ', '', 10).split('\\n')[1] if (type(x)!=float) else 'Not mentioned')"
   ]
  },
  {
   "cell_type": "markdown",
   "id": "4a486896-3408-4cc1-b8b2-ebd03b05c5b5",
   "metadata": {},
   "source": [
    "#### Dropping unwanted column"
   ]
  },
  {
   "cell_type": "code",
   "execution_count": 5,
   "id": "5ff019e4-f002-4e8e-a10b-8be65afe8ebd",
   "metadata": {},
   "outputs": [],
   "source": [
    "del df['No of applicants']\n",
    "# since over 70% of data in No.applicant are 'nan', it was dropped"
   ]
  },
  {
   "cell_type": "markdown",
   "id": "a4644891-720f-4de1-be78-e4bf51659627",
   "metadata": {},
   "source": [
    "# Data Wrangling"
   ]
  },
  {
   "cell_type": "markdown",
   "id": "bb133574-e98f-47f3-99db-0b9436d27d39",
   "metadata": {},
   "source": [
    "#### Extracting Name of the city from \"Location\" column"
   ]
  },
  {
   "cell_type": "code",
   "execution_count": 6,
   "id": "c58cdb4a-95da-4534-aa89-bca868aaa2a0",
   "metadata": {},
   "outputs": [],
   "source": [
    "city_dict = {'Mumbai Metropolitan Region': 'Mumbai',\n",
    "            'Pune/Pimpri-Chinchwad Area': 'Pune',\n",
    "            'India': 'Not mentioned',\n",
    "            'Chandigarh': 'Chandigarh',\n",
    "            'Punjab': 'Not mentioned',\n",
    "            'Karnataka': 'Not mentioned',\n",
    "            'Dadra and Nagar Haveli': 'Dadra and Nagar Haveli',\n",
    "            'Goa': 'Goa'}\n",
    "\n",
    "\n",
    "def city(x):\n",
    "    c = x.split(',')\n",
    "    c1 = c[0]\n",
    "    if len(c) > 2:\n",
    "        return c1\n",
    "    elif c1 in city_dict.keys():\n",
    "        return city_dict[c1]\n",
    "    elif 'Greater' in c1:\n",
    "        return c1.split(' ')[1]\n",
    "\n",
    "\n",
    "df['City'] = df['Location'].apply(city)"
   ]
  },
  {
   "cell_type": "markdown",
   "id": "b9c0002c-9db7-41f6-bf51-92021a31dbac",
   "metadata": {},
   "source": [
    "#### Extracting Name of the state from \"Location\" column"
   ]
  },
  {
   "cell_type": "code",
   "execution_count": 7,
   "id": "7c1684e6-617b-40df-943e-f6d6a3889f4e",
   "metadata": {},
   "outputs": [],
   "source": [
    "state_dict = {'Mumbai Metropolitan Region': 'Maharashtra',\n",
    "            'Greater Nashik Area': 'Maharashtra',\n",
    "            'Pune/Pimpri-Chinchwad Area': 'Maharashtra',\n",
    "            'Greater Madurai Area': 'Tamil Nadu',\n",
    "            'Greater Delhi Area': 'Delhi',\n",
    "            'Greater Hyderabad Area': 'Telangana',\n",
    "            'India': 'Not mentioned'}\n",
    "\n",
    "\n",
    "def state(x):\n",
    "    s = x.split(',')\n",
    "    if len(s) > 2:\n",
    "        return s[1].replace(' ', '', 1)\n",
    "    elif len(s) == 2:\n",
    "        return s[0]\n",
    "    elif x in state_dict.keys():\n",
    "        return (state_dict[x])\n",
    "\n",
    "\n",
    "df['State'] = df['Location'].apply(state)"
   ]
  },
  {
   "cell_type": "markdown",
   "id": "e67c754c-6e35-4776-918f-caa5bc8ae8b1",
   "metadata": {},
   "source": [
    "#### Standardizing city names"
   ]
  },
  {
   "cell_type": "code",
   "execution_count": 8,
   "id": "2b31e155-6ba7-4e69-adc8-109b721d4fff",
   "metadata": {},
   "outputs": [],
   "source": [
    "def grp(x):\n",
    "    if 'Bangalore Urban' in x or 'Bengaluru North' in x or 'Bengaluru Rural' in x:\n",
    "        return 'Bengaluru'\n",
    "    elif 'Open Area' in x or 'Okhla' in x or 'Sarita Vihar' in x:\n",
    "        return 'Delhi'\n",
    "    elif 'Trivandrum' in x:\n",
    "        return 'Thiruvananthapuram'\n",
    "    elif 'Serilingampally' in x:\n",
    "        return 'Hyderabad'\n",
    "    elif 'Kochi' in x:\n",
    "        return 'Ernakulam'\n",
    "    else:\n",
    "        return x\n",
    "\n",
    "\n",
    "df['Grouped City'] = df['City'].apply(grp)"
   ]
  },
  {
   "cell_type": "markdown",
   "id": "12e5f10c-1a0c-4925-936b-93909f82386f",
   "metadata": {},
   "source": [
    "#### Extracting days from \"Time posted\" column"
   ]
  },
  {
   "cell_type": "code",
   "execution_count": 9,
   "id": "1e67e5f3-e909-4668-87e4-dafe62fb7b68",
   "metadata": {},
   "outputs": [],
   "source": [
    "def days(x):\n",
    "    if x != 'Not available':\n",
    "        if 'week' in x:\n",
    "            return int(x.split(' ')[0])*7\n",
    "        elif 'month' in x:\n",
    "            return int(x.split(' ')[0])*31\n",
    "        elif 'day' in x:\n",
    "            return int(x.split(' ')[0])\n",
    "    else:\n",
    "        return 0\n",
    "\n",
    "\n",
    "df['No. of days ago'] = df['Time posted'].apply(days)"
   ]
  },
  {
   "cell_type": "markdown",
   "id": "a26979e1-18f5-46c4-b6dc-cd15e79c569c",
   "metadata": {},
   "source": [
    "#### Extracting month from \"No. of days ago\" column"
   ]
  },
  {
   "cell_type": "code",
   "execution_count": 10,
   "id": "d2acc132-e6a8-4a29-b609-35332bdc519f",
   "metadata": {},
   "outputs": [],
   "source": [
    "def month(x):\n",
    "    if x != 0:\n",
    "        td = pd.Timedelta(days=x)\n",
    "        m = ts-td\n",
    "        return (calendar.month_name[m.month])\n",
    "    else:\n",
    "        return 'Not mentioned'\n",
    "\n",
    "\n",
    "ts = pd.Timestamp('2021/11/29') # Date on which data was scrapped from linkedin\n",
    "df['Month posted'] = df['No. of days ago'].apply(month)"
   ]
  },
  {
   "cell_type": "markdown",
   "id": "7e8a7692-4e78-40db-841c-bf4e832394e5",
   "metadata": {},
   "source": [
    "# Analysis"
   ]
  },
  {
   "cell_type": "markdown",
   "id": "91335a4f-57ff-44b6-81ed-5ddf990d1dd9",
   "metadata": {},
   "source": [
    "#### Counting number of times an individual term mentioned in job function"
   ]
  },
  {
   "cell_type": "code",
   "execution_count": 11,
   "id": "3b84a1ef-2437-4cde-b58b-36aed491bfea",
   "metadata": {},
   "outputs": [],
   "source": [
    "val = df['Job function']\n",
    "terms = []\n",
    "for i in val:\n",
    "    l = re.split(',| and',i)\n",
    "    for ii in range(len(l)):\n",
    "        if ii > 0:\n",
    "            terms.append(l[ii].replace(' ', '', 1))\n",
    "        else:\n",
    "            terms.append(l[ii])\n",
    "\n",
    "terms_counter = Counter(terms)\n",
    "terms_counter = dict(terms_counter)\n",
    "del terms_counter['']\n",
    "del terms_counter['Not mentioned']\n",
    "\n",
    "# Creating a dataframe for obtained result for export\n",
    "job_functions = pd.DataFrame({'Functions': terms_counter.keys(), 'Total mentions': terms_counter.values()})"
   ]
  },
  {
   "cell_type": "markdown",
   "id": "74669e38-f546-4efd-b452-76fa0c705f16",
   "metadata": {},
   "source": [
    "#### Counting number of time a individual term mentioned in Industry"
   ]
  },
  {
   "cell_type": "code",
   "execution_count": 12,
   "id": "152e3855-080d-406d-b792-bf2870fb27cb",
   "metadata": {},
   "outputs": [],
   "source": [
    "val = df['Industry']\n",
    "terms = []\n",
    "for i in val:\n",
    "    ll = i.replace(', and', ',')\n",
    "    l = re.split(',', ll)\n",
    "    for ii in range(len(l)):\n",
    "        if ii > 0:\n",
    "            terms.append(l[ii].replace(' ', '', 1))\n",
    "        else:\n",
    "            terms.append(l[ii])\n",
    "\n",
    "terms_counter = Counter(terms)\n",
    "terms_dict = dict(terms_counter)\n",
    "del terms_dict['Not mentioned']\n",
    "terms_dict\n",
    "\n",
    "# Creating a dataframe for obtained result for export\n",
    "industry = pd.DataFrame({'Industry': terms_dict.keys(), 'Total mentions': terms_dict.values()})"
   ]
  },
  {
   "cell_type": "markdown",
   "id": "d2861a6c-3e52-4c92-b680-514e25afbd53",
   "metadata": {},
   "source": [
    "#### Modifying columns"
   ]
  },
  {
   "cell_type": "code",
   "execution_count": 13,
   "id": "418b0377-8905-4626-9125-be10dec9a3f9",
   "metadata": {},
   "outputs": [],
   "source": [
    "del df['Location']\n",
    "del df['Time posted']\n",
    "del df['City']\n",
    "del df['Role']\n",
    "\n",
    "# Renaming column\n",
    "df.rename(columns={'Grouped City': 'City'}, inplace=True)\n",
    "\n",
    "# Rearranging columns\n",
    "column = ['Company', 'City', 'State', 'Month posted', 'No. of days ago', 'Level', 'Job type','Job function', 'Industry']\n",
    "df = df[column]"
   ]
  },
  {
   "cell_type": "markdown",
   "id": "f23a0231-34ce-40e1-8420-957076d73325",
   "metadata": {},
   "source": [
    "# Exporting data"
   ]
  },
  {
   "cell_type": "raw",
   "id": "e26bdfb2-247d-4432-8c4b-ba15c2443b4f",
   "metadata": {},
   "source": [
    "df.to_excel('Cleaned dataset.xlsx', index=False)\n",
    "job_functions.to_excel('Job function count.xlsx', index=False)\n",
    "industry.to_excel('Industry count.xlsx', index=False)"
   ]
  },
  {
   "cell_type": "code",
   "execution_count": null,
   "id": "7a0756f6-9976-4b25-9103-9afb1ce19197",
   "metadata": {},
   "outputs": [],
   "source": []
  }
 ],
 "metadata": {
  "kernelspec": {
   "display_name": "Python 3 (ipykernel)",
   "language": "python",
   "name": "python3"
  },
  "language_info": {
   "codemirror_mode": {
    "name": "ipython",
    "version": 3
   },
   "file_extension": ".py",
   "mimetype": "text/x-python",
   "name": "python",
   "nbconvert_exporter": "python",
   "pygments_lexer": "ipython3",
   "version": "3.10.2"
  }
 },
 "nbformat": 4,
 "nbformat_minor": 5
}
